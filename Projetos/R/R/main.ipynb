{
 "cells": [
  {
   "cell_type": "markdown",
   "metadata": {},
   "source": [
    "# Análise Estatística com R\n",
    "\n",
    "Este notebook demonstra várias medidas estatísticas e gráficos usando uma amostra de dados sobre distribuição de renda e qualidade de vida no Brasil. Além disso, abordaremos conceitos de variáveis, estruturas de controle, operadores lógicos e relacionais, classes, herança e polimorfismo."
   ]
  },
  {
   "cell_type": "code",
   "execution_count": null,
   "metadata": {},
   "outputs": [],
   "source": [
    "# Carregar bibliotecas necessárias\n",
    "library(ggplot2)\n",
    "library(dplyr)\n",
    "library(readr)\n",
    "library(tidyr)\n",
    "library(corrplot)"
   ]
  },
  {
   "cell_type": "markdown",
   "metadata": {},
   "source": [
    "## Buscar e formatar dados\n",
    "\n",
    "Vamos buscar dados da internet, formatá-los e criar uma tabela CSV."
   ]
  },
  {
   "cell_type": "code",
   "execution_count": null,
   "metadata": {},
   "outputs": [],
   "source": [
    "# Buscar dados da internet\n",
    "url <- 'https://raw.githubusercontent.com/datasets/income-distribution/master/data/income-distribution.csv'\n",
    "dados <- read_csv(url)\n",
    "\n",
    "# Filtrar dados para o Brasil\n",
    "dados_brasil <- dados %>% filter(Country == 'Brazil')\n",
    "\n",
    "# Selecionar colunas relevantes\n",
    "dados_brasil <- dados_brasil %>% select(Year, Income, Population)\n",
    "\n",
    "# Renomear colunas\n",
    "colnames(dados_brasil) <- c('Ano', 'Renda', 'Populacao')\n",
    "\n",
    "# Criar coluna de qualidade de vida (exemplo fictício)\n",
    "set.seed(123)\n",
    "dados_brasil$Qualidade_Vida <- runif(nrow(dados_brasil), min=0, max=100)\n",
    "\n",
    "# Salvar dados em um arquivo CSV\n",
    "write_csv(dados_brasil, 'dados_renda_qualidade_vida.csv')\n",
    "\n",
    "# Visualizar os primeiros registros\n",
    "head(dados_brasil)"
   ]
  },
  {
   "cell_type": "markdown",
   "metadata": {},
   "source": [
    "## Carregar e visualizar os dados\n",
    "\n",
    "Vamos carregar a tabela CSV criada e visualizar os dados."
   ]
  },
  {
   "cell_type": "code",
   "execution_count": null,
   "metadata": {},
   "outputs": [],
   "source": [
    "# Carregar os dados\n",
    "dados <- read_csv('dados_renda_qualidade_vida.csv')\n",
    "\n",
    "# Visualizar os primeiros registros\n",
    "head(dados)"
   ]
  },
  {
   "cell_type": "markdown",
   "metadata": {},
   "source": [
    "## Variáveis\n",
    "\n",
    "Em R, variáveis são usadas para armazenar dados. Vamos criar algumas variáveis de exemplo."
   ]
  },
  {
   "cell_type": "code",
   "execution_count": null,
   "metadata": {},
   "outputs": [],
   "source": [
    "# Variáveis\n",
    "inteiro <- 10\n",
    "flutuante <- 5.5\n",
    "caractere <- 'A'\n",
    "texto <- 'Olá, mundo!'\n",
    "\n",
    "# Exibir variáveis\n",
    "inteiro\n",
    "flutuante\n",
    "caractere\n",
    "texto"
   ]
  },
  {
   "cell_type": "markdown",
   "metadata": {},
   "source": [
    "## Estruturas de Controle\n",
    "\n",
    "### Decisão\n",
    "\n",
    "Estruturas de controle de decisão permitem executar diferentes blocos de código com base em condições."
   ]
  },
  {
   "cell_type": "code",
   "execution_count": null,
   "metadata": {},
   "outputs": [],
   "source": [
    "# Estruturas de Controle - Decisão\n",
    "x <- 10\n",
    "\n",
    "if (x > 5) {\n",
    "  print('x é maior que 5')\n",
    "} else {\n",
    "  print('x é menor ou igual a 5')\n",
    "}"
   ]
  },
  {
   "cell_type": "markdown",
   "metadata": {},
   "source": [
    "### Repetição\n",
    "\n",
    "Estruturas de controle de repetição permitem executar um bloco de código várias vezes."
   ]
  },
  {
   "cell_type": "code",
   "execution_count": null,
   "metadata": {},
   "outputs": [],
   "source": [
    "# Estruturas de Controle - Repetição\n",
    "for (i in 1:5) {\n",
    "  print(i)\n",
    "}"
   ]
  },
  {
   "cell_type": "markdown",
   "metadata": {},
   "source": [
    "## Operadores Lógicos e Relacionais\n",
    "\n",
    "Operadores lógicos e relacionais são usados para comparar valores e combinar condições."
   ]
  },
  {
   "cell_type": "code",
   "execution_count": null,
   "metadata": {},
   "outputs": [],
   "source": [
    "# Operadores Lógicos e Relacionais\n",
    "a <- 10\n",
    "b <- 20\n",
    "\n",
    "# Operadores relacionais\n",
    "a < b\n",
    "a > b\n",
    "a == b\n",
    "a != b\n",
    "\n",
    "# Operadores lógicos\n",
    "a < b & a == 10\n",
    "a > b | a == 10"
   ]
  },
  {
   "cell_type": "markdown",
   "metadata": {},
   "source": [
    "## Classes, Herança e Polimorfismo\n",
    "\n",
    "Em R, podemos definir classes e métodos para criar objetos e aplicar conceitos de herança e polimorfismo."
   ]
  },
  {
   "cell_type": "code",
   "execution_count": null,
   "metadata": {},
   "outputs": [],
   "source": [
    "# Definir uma classe Pessoa\n",
    "Pessoa <- setRefClass('Pessoa',\n",
    "  fields = list(nome = 'character', idade = 'numeric'),\n",
    "  methods = list(\n",
    "    saudacao = function() {\n",
    "      cat('Olá, meu nome é', nome, 'e eu tenho', idade, 'anos.\\n')\n",
    "    }\n",
    "  )\n",
    ")\n",
    "\n",
    "# Criar um objeto da classe Pessoa\n",
    "pessoa <- Pessoa$new(nome = 'João', idade = 30)\n",
    "pessoa$saudacao()"
   ]
  },
  {
   "cell_type": "markdown",
   "metadata": {},
   "source": [
    "### Herança e Polimorfismo"
   ]
  },
  {
   "cell_type": "code",
   "execution_count": null,
   "metadata": {},
   "outputs": [],
   "source": [
    "# Definir uma classe Animal\n",
    "Animal <- setRefClass('Animal',\n",
    "  fields = list(nome = 'character'),\n",
    "  methods = list(\n",
    "    fazerSom = function() {\n",
    "      cat(nome, 'faz um som.\\n')\n",
    "    }\n",
    "  )\n",
    ")\n",
    "\n",
    "# Definir uma classe Cachorro que herda de Animal\n",
    "Cachorro <- setRefClass('Cachorro',\n",
    "  contains = 'Animal',\n",
    "  methods = list(\n",
    "    fazerSom = function() {\n",
    "      cat(nome, 'late.\\n')\n",
    "    }\n",
    "  )\n",
    ")\n",
    "\n",
    "# Definir uma classe Gato que herda de Animal\n",
    "Gato <- setRefClass('Gato',\n",
    "  contains = 'Animal',\n",
    "  methods = list(\n",
    "    fazerSom = function() {\n",
    "      cat(nome, 'mia.\\n')\n",
    "    }\n",
    "  )\n",
    ")\n",
    "\n",
    "# Criar objetos das classes Cachorro e Gato\n",
    "cachorro <- Cachorro$new(nome = 'Rex')\n",
    "gato <- Gato$new(nome = 'Mimi')\n",
    "\n",
    "# Demonstrar polimorfismo\n",
    "animais <- list(cachorro, gato)\n",
    "for (animal in animais) {\n",
    "  animal$fazerSom()\n",
    "}"
   ]
  },
  {
   "cell_type": "markdown",
   "metadata": {},
   "source": [
    "## Medidas Estatísticas\n",
    "\n",
    "### Média"
   ]
  },
  {
   "cell_type": "code",
   "execution_count": null,
   "metadata": {},
   "outputs": [],
   "source": [
    "# Calcular a média da renda\n",
    "media_renda <- mean(dados$Renda)\n",
    "media_renda"
   ]
  },
  {
   "cell_type": "markdown",
   "metadata": {},
   "source": [
    "### Mediana"
   ]
  },
  {
   "cell_type": "code",
   "execution_count": null,
   "metadata": {},
   "outputs": [],
   "source": [
    "# Calcular a mediana da renda\n",
    "mediana_renda <- median(dados$Renda)\n",
    "mediana_renda"
   ]
  },
  {
   "cell_type": "markdown",
   "metadata": {},
   "source": [
    "### Moda"
   ]
  },
  {
   "cell_type": "code",
   "execution_count": null,
   "metadata": {},
   "outputs": [],
   "source": [
    "# Calcular a moda da renda\n",
    "moda_renda <- as.numeric(names(sort(table(dados$Renda), decreasing=TRUE)[1]))\n",
    "moda_renda"
   ]
  },
  {
   "cell_type": "markdown",
   "metadata": {},
   "source": [
    "### Medidas de Dispersão\n",
    "\n",
    "#### Variância"
   ]
  },
  {
   "cell_type": "code",
   "execution_count": null,
   "metadata": {},
   "outputs": [],
   "source": [
    "# Calcular a variância da renda\n",
    "variancia_renda <- var(dados$Renda)\n",
    "variancia_renda"
   ]
  },
  {
   "cell_type": "markdown",
   "metadata": {},
   "source": [
    "#### Desvio Padrão"
   ]
  },
  {
   "cell_type": "code",
   "execution_count": null,
   "metadata": {},
   "outputs": [],
   "source": [
    "# Calcular o desvio padrão da renda\n",
    "desvio_padrao_renda <- sd(dados$Renda)\n",
    "desvio_padrao_renda"
   ]
  },
  {
   "cell_type": "markdown",
   "metadata": {},
   "source": [
    "## Gráficos Estatísticos\n",
    "\n",
    "### Histograma"
   ]
  },
  {
   "cell_type": "code",
   "execution_count": null,
   "metadata": {},
   "outputs": [],
   "source": [
    "# Histograma da renda\n",
    "ggplot(dados, aes(x=Renda)) +\n",
    "  geom_histogram(binwidth=500, fill='blue', color='black', alpha=0.7) +\n",
    "  labs(title='Histograma da Renda', x='Renda', y='Frequência')"
   ]
  },
  {
   "cell_type": "markdown",
   "metadata": {},
   "source": [
    "### Boxplot"
   ]
  },
  {
   "cell_type": "code",
   "execution_count": null,
   "metadata": {},
   "outputs": [],
   "source": [
    "# Boxplot da renda\n",
    "ggplot(dados, aes(y=Renda)) +\n",
    "  geom_boxplot(fill='orange', color='black', alpha=0.7) +\n",
    "  labs(title='Boxplot da Renda', y='Renda')"
   ]
  },
  {
   "cell_type": "markdown",
   "metadata": {},
   "source": [
    "### Gráfico de Dispersão"
   ]
  },
  {
   "cell_type": "code",
   "execution_count": null,
   "metadata": {},
   "outputs": [],
   "source": [
    "# Gráfico de dispersão entre renda e qualidade de vida\n",
    "ggplot(dados, aes(x=Renda, y=Qualidade_Vida)) +\n",
    "  geom_point(color='red', alpha=0.6) +\n",
    "  labs(title='Dispersão entre Renda e Qualidade de Vida', x='Renda', y='Qualidade de Vida')"
   ]
  },
  {
   "cell_type": "markdown",
   "metadata": {},
   "source": [
    "## Regressão Linear"
   ]
  },
  {
   "cell_type": "code",
   "execution_count": null,
   "metadata": {},
   "outputs": [],
   "source": [
    "# Regressão linear entre renda e qualidade de vida\n",
    "modelo <- lm(Qualidade_Vida ~ Renda, data=dados)\n",
    "summary(modelo)"
   ]
  },
  {
   "cell_type": "markdown",
   "metadata": {},
   "source": [
    "### Gráfico de Regressão Linear"
   ]
  },
  {
   "cell_type": "code",
   "execution_count": null,
   "metadata": {},
   "outputs": [],
   "source": [
    "# Gráfico de regressão linear\n",
    "ggplot(dados, aes(x=Renda, y=Qualidade_Vida)) +\n",
    "  geom_point(color='blue', alpha=0.6) +\n",
    "  geom_smooth(method='lm', color='red') +\n",
    "  labs(title='Regressão Linear entre Renda e Qualidade de Vida', x='Renda', y='Qualidade de Vida')"
   ]
  },
  {
   "cell_type": "markdown",
   "metadata": {},
   "source": [
    "## Correlação"
   ]
  },
  {
   "cell_type": "code",
   "execution_count": null,
   "metadata": {},
   "outputs": [],
   "source": [
    "# Matriz de correlação\n",
    "correlacao <- cor(dados %>% select(Renda, Qualidade_Vida))\n",
    "corrplot(correlacao, method='circle')"
   ]
  }
 ],
 "metadata": {
  "kernelspec": {
   "display_name": "R",
   "language": "R",
   "name": "ir"
  },
  "language_info": {
   "codemirror_mode": "r",
   "file_extension": ".r",
   "mimetype": "text/x-r-source",
   "name": "R",
   "pygments_lexer": "r",
   "version": "4.1.2"
  }
 },
 "nbformat": 4,
 "nbformat_minor": 2
}